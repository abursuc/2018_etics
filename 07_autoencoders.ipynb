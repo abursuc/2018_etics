{
 "cells": [
  {
   "cell_type": "code",
   "execution_count": 1,
   "metadata": {
    "collapsed": true
   },
   "outputs": [],
   "source": [
    "import os\n",
    "import numpy as np\n",
    "import matplotlib.pyplot as plt\n",
    "\n",
    "import torch\n",
    "import torch.nn as nn\n",
    "import torch.nn.functional as F\n",
    "import torch.optim as optim\n",
    "from torchvision import datasets, transforms\n",
    "from torch.autograd import Variable\n",
    "\n",
    "# plotting params\n",
    "%matplotlib inline\n",
    "plt.rcParams['font.size'] = 10\n",
    "plt.rcParams['axes.labelsize'] = 10\n",
    "plt.rcParams['axes.titlesize'] = 10\n",
    "plt.rcParams['xtick.labelsize'] = 8\n",
    "plt.rcParams['ytick.labelsize'] = 8\n",
    "plt.rcParams['legend.fontsize'] = 10\n",
    "plt.rcParams['figure.titlesize'] = 12\n",
    "plt.rcParams['figure.figsize'] = (8.0, 8.0)"
   ]
  },
  {
   "cell_type": "code",
   "execution_count": 2,
   "metadata": {},
   "outputs": [
    {
     "data": {
      "text/plain": [
       "<torch._C.Generator at 0x108ac4b10>"
      ]
     },
     "execution_count": 2,
     "metadata": {},
     "output_type": "execute_result"
    }
   ],
   "source": [
    "torch.manual_seed(423212)"
   ]
  },
  {
   "cell_type": "markdown",
   "metadata": {},
   "source": [
    "## Loading MNIST"
   ]
  },
  {
   "cell_type": "code",
   "execution_count": 3,
   "metadata": {},
   "outputs": [
    {
     "name": "stdout",
     "output_type": "stream",
     "text": [
      "Downloading http://yann.lecun.com/exdb/mnist/train-images-idx3-ubyte.gz\n",
      "Downloading http://yann.lecun.com/exdb/mnist/train-labels-idx1-ubyte.gz\n",
      "Downloading http://yann.lecun.com/exdb/mnist/t10k-images-idx3-ubyte.gz\n",
      "Downloading http://yann.lecun.com/exdb/mnist/t10k-labels-idx1-ubyte.gz\n",
      "Processing...\n",
      "Done!\n"
     ]
    }
   ],
   "source": [
    "train_loader = torch.utils.data.DataLoader(\n",
    "    datasets.MNIST('./data', train=True, download=True,\n",
    "                   transform=transforms.Compose([\n",
    "                       transforms.ToTensor(),\n",
    "                       # transforms.Normalize((0.1307,), (0.3081,))\n",
    "                       # transforms.Normalize((0.5, 0.5, 0.5), (0.5, 0.5, 0.5)),\n",
    "                   ])),\n",
    "    batch_size=128, shuffle=True)\n",
    "\n",
    "test_loader = torch.utils.data.DataLoader(\n",
    "    datasets.MNIST('./data', train=False, download=True,\n",
    "                   transform=transforms.Compose([\n",
    "                       transforms.ToTensor(),\n",
    "                       # transforms.Normalize((0.1307,), (0.3081,))\n",
    "                       # transforms.Normalize((0.5, 0.5, 0.5), (0.5, 0.5, 0.5)),\n",
    "                   ])),\n",
    "                    batch_size=10, shuffle=False)"
   ]
  },
  {
   "cell_type": "markdown",
   "metadata": {},
   "source": [
    "## Helper Functions"
   ]
  },
  {
   "cell_type": "code",
   "execution_count": 4,
   "metadata": {
    "collapsed": true
   },
   "outputs": [],
   "source": [
    "def to_img(x):\n",
    "    x = x.data.numpy()\n",
    "    x = 0.5 * (x + 1)\n",
    "    x = np.clip(x, 0, 1)\n",
    "    x = x.reshape([-1, 28, 28])\n",
    "    return x\n",
    "\n",
    "def plot_reconstructions(model, save=True, name=None, conv=False, simple=False):\n",
    "    \"\"\"\n",
    "    Plot 10 reconstructions from the test set. The top row is the original\n",
    "    digits, the bottom is the decoder reconstruction.\n",
    "    \"\"\"\n",
    "    # encode then decode\n",
    "    data, _ = next(iter(test_loader))\n",
    "    if not conv:\n",
    "        data = data.view([-1, 784])\n",
    "    data = Variable(data, volatile=True)\n",
    "    true_imgs = data\n",
    "    encoded_imgs = model.encoder(data)\n",
    "    if simple:\n",
    "        encoded_imgs = F.relu(encoded_imgs)\n",
    "    decoded_imgs = model.decoder(encoded_imgs)\n",
    "    \n",
    "    true_imgs = to_img(true_imgs)\n",
    "    decoded_imgs = to_img(decoded_imgs)\n",
    "    \n",
    "    n = 10\n",
    "    plt.figure(figsize=(20, 4))\n",
    "    for i in range(n):\n",
    "        # display original\n",
    "        ax = plt.subplot(2, n, i + 1)\n",
    "        plt.imshow(true_imgs[i])\n",
    "        plt.gray()\n",
    "        ax.get_xaxis().set_visible(False)\n",
    "        ax.get_yaxis().set_visible(False)\n",
    "\n",
    "        # display reconstruction\n",
    "        ax = plt.subplot(2, n, i + 1 + n)\n",
    "        plt.imshow(decoded_imgs[i])\n",
    "        plt.gray()\n",
    "        ax.get_xaxis().set_visible(False)\n",
    "        ax.get_yaxis().set_visible(False)\n",
    "    if save:\n",
    "        plt.savefig('./plots/' + name + '.png', format='png', dpi=300)\n",
    "    plt.show()"
   ]
  },
  {
   "cell_type": "markdown",
   "metadata": {},
   "source": [
    "## Simple Auto-Encoder\n",
    "\n",
    "We'll start with the simplest autoencoder: a single, fully-connected layer as the encoder and decoder."
   ]
  },
  {
   "cell_type": "code",
   "execution_count": 5,
   "metadata": {
    "collapsed": true
   },
   "outputs": [],
   "source": [
    "class AutoEncoder(nn.Module):\n",
    "    def __init__(self, input_dim, encoding_dim):\n",
    "        super(AutoEncoder, self).__init__()\n",
    "        self.encoder = nn.Linear(input_dim, encoding_dim)\n",
    "        self.decoder = nn.Linear(encoding_dim, input_dim)\n",
    "\n",
    "    def forward(self, x):\n",
    "        encoded = F.relu(self.encoder(x))\n",
    "        decoded = self.decoder(encoded)\n",
    "        return decoded, encoded"
   ]
  },
  {
   "cell_type": "code",
   "execution_count": 6,
   "metadata": {
    "collapsed": true
   },
   "outputs": [],
   "source": [
    "input_dim = 784\n",
    "encoding_dim = 32\n",
    "\n",
    "model = AutoEncoder(input_dim, encoding_dim)\n",
    "optimizer = optim.Adam(model.parameters())"
   ]
  },
  {
   "cell_type": "code",
   "execution_count": 7,
   "metadata": {
    "collapsed": true
   },
   "outputs": [],
   "source": [
    "def l1_penalty(var):\n",
    "    return torch.abs(var).sum()\n",
    "\n",
    "def train(epoch, sparsity=False, l1_weight=1e-5):\n",
    "    for batch_idx, (data, _) in enumerate(train_loader):\n",
    "        data = Variable(data.view([-1, 784]))\n",
    "        optimizer.zero_grad()\n",
    "        \n",
    "        # enforcing sparsity with l1 reg\n",
    "        if sparsity:\n",
    "            decoder_out, encoder_out = model(data)\n",
    "            mse_loss = F.mse_loss(decoder_out, data)\n",
    "            l1_reg = l1_weight * l1_penalty(encoder_out)\n",
    "            loss = mse_loss + l1_reg\n",
    "        else:\n",
    "            output, _ = model(data)\n",
    "            loss = F.binary_cross_entropy_with_logits(output, data)\n",
    "            # loss = F.mse_loss(output, data)\n",
    "            \n",
    "        loss.backward()\n",
    "        optimizer.step()\n",
    "        if batch_idx % 50 == 0:\n",
    "            print('Train Epoch: {} [{}/{} ({:.0f}%)]\\tLoss: {:.6f}'.format(\n",
    "                epoch, batch_idx * len(data), len(train_loader.dataset),\n",
    "                100. * batch_idx / len(train_loader), loss.data[0]))"
   ]
  },
  {
   "cell_type": "code",
   "execution_count": 8,
   "metadata": {
    "scrolled": true
   },
   "outputs": [
    {
     "name": "stderr",
     "output_type": "stream",
     "text": [
      "/Users/abursuc/anaconda3/lib/python3.6/site-packages/ipykernel_launcher.py:25: UserWarning: invalid index of a 0-dim tensor. This will be an error in PyTorch 0.5. Use tensor.item() to convert a 0-dim tensor to a Python number\n"
     ]
    },
    {
     "name": "stdout",
     "output_type": "stream",
     "text": [
      "Train Epoch: 1 [0/60000 (0%)]\tLoss: 0.695934\n",
      "Train Epoch: 1 [6400/60000 (11%)]\tLoss: 0.320576\n",
      "Train Epoch: 1 [12800/60000 (21%)]\tLoss: 0.262557\n",
      "Train Epoch: 1 [19200/60000 (32%)]\tLoss: 0.221536\n",
      "Train Epoch: 1 [25600/60000 (43%)]\tLoss: 0.214266\n",
      "Train Epoch: 1 [32000/60000 (53%)]\tLoss: 0.187220\n",
      "Train Epoch: 1 [38400/60000 (64%)]\tLoss: 0.188582\n",
      "Train Epoch: 1 [44800/60000 (75%)]\tLoss: 0.182550\n",
      "Train Epoch: 1 [51200/60000 (85%)]\tLoss: 0.174422\n",
      "Train Epoch: 1 [57600/60000 (96%)]\tLoss: 0.172911\n",
      "Train Epoch: 2 [0/60000 (0%)]\tLoss: 0.169989\n",
      "Train Epoch: 2 [6400/60000 (11%)]\tLoss: 0.157995\n",
      "Train Epoch: 2 [12800/60000 (21%)]\tLoss: 0.160938\n",
      "Train Epoch: 2 [19200/60000 (32%)]\tLoss: 0.159864\n",
      "Train Epoch: 2 [25600/60000 (43%)]\tLoss: 0.147259\n",
      "Train Epoch: 2 [32000/60000 (53%)]\tLoss: 0.149106\n",
      "Train Epoch: 2 [38400/60000 (64%)]\tLoss: 0.148186\n",
      "Train Epoch: 2 [44800/60000 (75%)]\tLoss: 0.145023\n",
      "Train Epoch: 2 [51200/60000 (85%)]\tLoss: 0.150311\n",
      "Train Epoch: 2 [57600/60000 (96%)]\tLoss: 0.136991\n",
      "Train Epoch: 3 [0/60000 (0%)]\tLoss: 0.140366\n",
      "Train Epoch: 3 [6400/60000 (11%)]\tLoss: 0.140104\n",
      "Train Epoch: 3 [12800/60000 (21%)]\tLoss: 0.144338\n",
      "Train Epoch: 3 [19200/60000 (32%)]\tLoss: 0.132285\n",
      "Train Epoch: 3 [25600/60000 (43%)]\tLoss: 0.130952\n",
      "Train Epoch: 3 [32000/60000 (53%)]\tLoss: 0.128156\n",
      "Train Epoch: 3 [38400/60000 (64%)]\tLoss: 0.127259\n",
      "Train Epoch: 3 [44800/60000 (75%)]\tLoss: 0.125948\n",
      "Train Epoch: 3 [51200/60000 (85%)]\tLoss: 0.127490\n",
      "Train Epoch: 3 [57600/60000 (96%)]\tLoss: 0.121884\n",
      "Train Epoch: 4 [0/60000 (0%)]\tLoss: 0.132460\n",
      "Train Epoch: 4 [6400/60000 (11%)]\tLoss: 0.122645\n",
      "Train Epoch: 4 [12800/60000 (21%)]\tLoss: 0.123019\n",
      "Train Epoch: 4 [19200/60000 (32%)]\tLoss: 0.128326\n",
      "Train Epoch: 4 [25600/60000 (43%)]\tLoss: 0.118337\n",
      "Train Epoch: 4 [32000/60000 (53%)]\tLoss: 0.118215\n",
      "Train Epoch: 4 [38400/60000 (64%)]\tLoss: 0.116946\n",
      "Train Epoch: 4 [44800/60000 (75%)]\tLoss: 0.117976\n",
      "Train Epoch: 4 [51200/60000 (85%)]\tLoss: 0.116159\n",
      "Train Epoch: 4 [57600/60000 (96%)]\tLoss: 0.115541\n",
      "Train Epoch: 5 [0/60000 (0%)]\tLoss: 0.117783\n",
      "Train Epoch: 5 [6400/60000 (11%)]\tLoss: 0.110960\n",
      "Train Epoch: 5 [12800/60000 (21%)]\tLoss: 0.110825\n",
      "Train Epoch: 5 [19200/60000 (32%)]\tLoss: 0.115845\n",
      "Train Epoch: 5 [25600/60000 (43%)]\tLoss: 0.110798\n",
      "Train Epoch: 5 [32000/60000 (53%)]\tLoss: 0.113203\n",
      "Train Epoch: 5 [38400/60000 (64%)]\tLoss: 0.115224\n"
     ]
    },
    {
     "ename": "KeyboardInterrupt",
     "evalue": "",
     "output_type": "error",
     "traceback": [
      "\u001b[0;31m---------------------------------------------------------------------------\u001b[0m",
      "\u001b[0;31mKeyboardInterrupt\u001b[0m                         Traceback (most recent call last)",
      "\u001b[0;32m<ipython-input-8-0d69b79335ef>\u001b[0m in \u001b[0;36m<module>\u001b[0;34m()\u001b[0m\n\u001b[1;32m      2\u001b[0m \u001b[0;34m\u001b[0m\u001b[0m\n\u001b[1;32m      3\u001b[0m \u001b[0;32mfor\u001b[0m \u001b[0mepoch\u001b[0m \u001b[0;32min\u001b[0m \u001b[0mrange\u001b[0m\u001b[0;34m(\u001b[0m\u001b[0;36m1\u001b[0m\u001b[0;34m,\u001b[0m  \u001b[0mnum_epochs\u001b[0m \u001b[0;34m+\u001b[0m \u001b[0;36m1\u001b[0m\u001b[0;34m)\u001b[0m\u001b[0;34m:\u001b[0m\u001b[0;34m\u001b[0m\u001b[0m\n\u001b[0;32m----> 4\u001b[0;31m     \u001b[0mtrain\u001b[0m\u001b[0;34m(\u001b[0m\u001b[0mepoch\u001b[0m\u001b[0;34m)\u001b[0m\u001b[0;34m\u001b[0m\u001b[0m\n\u001b[0m",
      "\u001b[0;32m<ipython-input-7-a617cfec5592>\u001b[0m in \u001b[0;36mtrain\u001b[0;34m(epoch, sparsity, l1_weight)\u001b[0m\n\u001b[1;32m      3\u001b[0m \u001b[0;34m\u001b[0m\u001b[0m\n\u001b[1;32m      4\u001b[0m \u001b[0;32mdef\u001b[0m \u001b[0mtrain\u001b[0m\u001b[0;34m(\u001b[0m\u001b[0mepoch\u001b[0m\u001b[0;34m,\u001b[0m \u001b[0msparsity\u001b[0m\u001b[0;34m=\u001b[0m\u001b[0;32mFalse\u001b[0m\u001b[0;34m,\u001b[0m \u001b[0ml1_weight\u001b[0m\u001b[0;34m=\u001b[0m\u001b[0;36m1e-5\u001b[0m\u001b[0;34m)\u001b[0m\u001b[0;34m:\u001b[0m\u001b[0;34m\u001b[0m\u001b[0m\n\u001b[0;32m----> 5\u001b[0;31m     \u001b[0;32mfor\u001b[0m \u001b[0mbatch_idx\u001b[0m\u001b[0;34m,\u001b[0m \u001b[0;34m(\u001b[0m\u001b[0mdata\u001b[0m\u001b[0;34m,\u001b[0m \u001b[0m_\u001b[0m\u001b[0;34m)\u001b[0m \u001b[0;32min\u001b[0m \u001b[0menumerate\u001b[0m\u001b[0;34m(\u001b[0m\u001b[0mtrain_loader\u001b[0m\u001b[0;34m)\u001b[0m\u001b[0;34m:\u001b[0m\u001b[0;34m\u001b[0m\u001b[0m\n\u001b[0m\u001b[1;32m      6\u001b[0m         \u001b[0mdata\u001b[0m \u001b[0;34m=\u001b[0m \u001b[0mVariable\u001b[0m\u001b[0;34m(\u001b[0m\u001b[0mdata\u001b[0m\u001b[0;34m.\u001b[0m\u001b[0mview\u001b[0m\u001b[0;34m(\u001b[0m\u001b[0;34m[\u001b[0m\u001b[0;34m-\u001b[0m\u001b[0;36m1\u001b[0m\u001b[0;34m,\u001b[0m \u001b[0;36m784\u001b[0m\u001b[0;34m]\u001b[0m\u001b[0;34m)\u001b[0m\u001b[0;34m)\u001b[0m\u001b[0;34m\u001b[0m\u001b[0m\n\u001b[1;32m      7\u001b[0m         \u001b[0moptimizer\u001b[0m\u001b[0;34m.\u001b[0m\u001b[0mzero_grad\u001b[0m\u001b[0;34m(\u001b[0m\u001b[0;34m)\u001b[0m\u001b[0;34m\u001b[0m\u001b[0m\n",
      "\u001b[0;32m/Users/abursuc/anaconda3/lib/python3.6/site-packages/torch/utils/data/dataloader.py\u001b[0m in \u001b[0;36m__next__\u001b[0;34m(self)\u001b[0m\n\u001b[1;32m    262\u001b[0m         \u001b[0;32mif\u001b[0m \u001b[0mself\u001b[0m\u001b[0;34m.\u001b[0m\u001b[0mnum_workers\u001b[0m \u001b[0;34m==\u001b[0m \u001b[0;36m0\u001b[0m\u001b[0;34m:\u001b[0m  \u001b[0;31m# same-process loading\u001b[0m\u001b[0;34m\u001b[0m\u001b[0m\n\u001b[1;32m    263\u001b[0m             \u001b[0mindices\u001b[0m \u001b[0;34m=\u001b[0m \u001b[0mnext\u001b[0m\u001b[0;34m(\u001b[0m\u001b[0mself\u001b[0m\u001b[0;34m.\u001b[0m\u001b[0msample_iter\u001b[0m\u001b[0;34m)\u001b[0m  \u001b[0;31m# may raise StopIteration\u001b[0m\u001b[0;34m\u001b[0m\u001b[0m\n\u001b[0;32m--> 264\u001b[0;31m             \u001b[0mbatch\u001b[0m \u001b[0;34m=\u001b[0m \u001b[0mself\u001b[0m\u001b[0;34m.\u001b[0m\u001b[0mcollate_fn\u001b[0m\u001b[0;34m(\u001b[0m\u001b[0;34m[\u001b[0m\u001b[0mself\u001b[0m\u001b[0;34m.\u001b[0m\u001b[0mdataset\u001b[0m\u001b[0;34m[\u001b[0m\u001b[0mi\u001b[0m\u001b[0;34m]\u001b[0m \u001b[0;32mfor\u001b[0m \u001b[0mi\u001b[0m \u001b[0;32min\u001b[0m \u001b[0mindices\u001b[0m\u001b[0;34m]\u001b[0m\u001b[0;34m)\u001b[0m\u001b[0;34m\u001b[0m\u001b[0m\n\u001b[0m\u001b[1;32m    265\u001b[0m             \u001b[0;32mif\u001b[0m \u001b[0mself\u001b[0m\u001b[0;34m.\u001b[0m\u001b[0mpin_memory\u001b[0m\u001b[0;34m:\u001b[0m\u001b[0;34m\u001b[0m\u001b[0m\n\u001b[1;32m    266\u001b[0m                 \u001b[0mbatch\u001b[0m \u001b[0;34m=\u001b[0m \u001b[0mpin_memory_batch\u001b[0m\u001b[0;34m(\u001b[0m\u001b[0mbatch\u001b[0m\u001b[0;34m)\u001b[0m\u001b[0;34m\u001b[0m\u001b[0m\n",
      "\u001b[0;32m/Users/abursuc/anaconda3/lib/python3.6/site-packages/torch/utils/data/dataloader.py\u001b[0m in \u001b[0;36m<listcomp>\u001b[0;34m(.0)\u001b[0m\n\u001b[1;32m    262\u001b[0m         \u001b[0;32mif\u001b[0m \u001b[0mself\u001b[0m\u001b[0;34m.\u001b[0m\u001b[0mnum_workers\u001b[0m \u001b[0;34m==\u001b[0m \u001b[0;36m0\u001b[0m\u001b[0;34m:\u001b[0m  \u001b[0;31m# same-process loading\u001b[0m\u001b[0;34m\u001b[0m\u001b[0m\n\u001b[1;32m    263\u001b[0m             \u001b[0mindices\u001b[0m \u001b[0;34m=\u001b[0m \u001b[0mnext\u001b[0m\u001b[0;34m(\u001b[0m\u001b[0mself\u001b[0m\u001b[0;34m.\u001b[0m\u001b[0msample_iter\u001b[0m\u001b[0;34m)\u001b[0m  \u001b[0;31m# may raise StopIteration\u001b[0m\u001b[0;34m\u001b[0m\u001b[0m\n\u001b[0;32m--> 264\u001b[0;31m             \u001b[0mbatch\u001b[0m \u001b[0;34m=\u001b[0m \u001b[0mself\u001b[0m\u001b[0;34m.\u001b[0m\u001b[0mcollate_fn\u001b[0m\u001b[0;34m(\u001b[0m\u001b[0;34m[\u001b[0m\u001b[0mself\u001b[0m\u001b[0;34m.\u001b[0m\u001b[0mdataset\u001b[0m\u001b[0;34m[\u001b[0m\u001b[0mi\u001b[0m\u001b[0;34m]\u001b[0m \u001b[0;32mfor\u001b[0m \u001b[0mi\u001b[0m \u001b[0;32min\u001b[0m \u001b[0mindices\u001b[0m\u001b[0;34m]\u001b[0m\u001b[0;34m)\u001b[0m\u001b[0;34m\u001b[0m\u001b[0m\n\u001b[0m\u001b[1;32m    265\u001b[0m             \u001b[0;32mif\u001b[0m \u001b[0mself\u001b[0m\u001b[0;34m.\u001b[0m\u001b[0mpin_memory\u001b[0m\u001b[0;34m:\u001b[0m\u001b[0;34m\u001b[0m\u001b[0m\n\u001b[1;32m    266\u001b[0m                 \u001b[0mbatch\u001b[0m \u001b[0;34m=\u001b[0m \u001b[0mpin_memory_batch\u001b[0m\u001b[0;34m(\u001b[0m\u001b[0mbatch\u001b[0m\u001b[0;34m)\u001b[0m\u001b[0;34m\u001b[0m\u001b[0m\n",
      "\u001b[0;32m/Users/abursuc/anaconda3/lib/python3.6/site-packages/torchvision-0.2.1-py3.6.egg/torchvision/datasets/mnist.py\u001b[0m in \u001b[0;36m__getitem__\u001b[0;34m(self, index)\u001b[0m\n\u001b[1;32m     75\u001b[0m \u001b[0;34m\u001b[0m\u001b[0m\n\u001b[1;32m     76\u001b[0m         \u001b[0;32mif\u001b[0m \u001b[0mself\u001b[0m\u001b[0;34m.\u001b[0m\u001b[0mtransform\u001b[0m \u001b[0;32mis\u001b[0m \u001b[0;32mnot\u001b[0m \u001b[0;32mNone\u001b[0m\u001b[0;34m:\u001b[0m\u001b[0;34m\u001b[0m\u001b[0m\n\u001b[0;32m---> 77\u001b[0;31m             \u001b[0mimg\u001b[0m \u001b[0;34m=\u001b[0m \u001b[0mself\u001b[0m\u001b[0;34m.\u001b[0m\u001b[0mtransform\u001b[0m\u001b[0;34m(\u001b[0m\u001b[0mimg\u001b[0m\u001b[0;34m)\u001b[0m\u001b[0;34m\u001b[0m\u001b[0m\n\u001b[0m\u001b[1;32m     78\u001b[0m \u001b[0;34m\u001b[0m\u001b[0m\n\u001b[1;32m     79\u001b[0m         \u001b[0;32mif\u001b[0m \u001b[0mself\u001b[0m\u001b[0;34m.\u001b[0m\u001b[0mtarget_transform\u001b[0m \u001b[0;32mis\u001b[0m \u001b[0;32mnot\u001b[0m \u001b[0;32mNone\u001b[0m\u001b[0;34m:\u001b[0m\u001b[0;34m\u001b[0m\u001b[0m\n",
      "\u001b[0;32m/Users/abursuc/anaconda3/lib/python3.6/site-packages/torchvision-0.2.1-py3.6.egg/torchvision/transforms/transforms.py\u001b[0m in \u001b[0;36m__call__\u001b[0;34m(self, img)\u001b[0m\n\u001b[1;32m     47\u001b[0m     \u001b[0;32mdef\u001b[0m \u001b[0m__call__\u001b[0m\u001b[0;34m(\u001b[0m\u001b[0mself\u001b[0m\u001b[0;34m,\u001b[0m \u001b[0mimg\u001b[0m\u001b[0;34m)\u001b[0m\u001b[0;34m:\u001b[0m\u001b[0;34m\u001b[0m\u001b[0m\n\u001b[1;32m     48\u001b[0m         \u001b[0;32mfor\u001b[0m \u001b[0mt\u001b[0m \u001b[0;32min\u001b[0m \u001b[0mself\u001b[0m\u001b[0;34m.\u001b[0m\u001b[0mtransforms\u001b[0m\u001b[0;34m:\u001b[0m\u001b[0;34m\u001b[0m\u001b[0m\n\u001b[0;32m---> 49\u001b[0;31m             \u001b[0mimg\u001b[0m \u001b[0;34m=\u001b[0m \u001b[0mt\u001b[0m\u001b[0;34m(\u001b[0m\u001b[0mimg\u001b[0m\u001b[0;34m)\u001b[0m\u001b[0;34m\u001b[0m\u001b[0m\n\u001b[0m\u001b[1;32m     50\u001b[0m         \u001b[0;32mreturn\u001b[0m \u001b[0mimg\u001b[0m\u001b[0;34m\u001b[0m\u001b[0m\n\u001b[1;32m     51\u001b[0m \u001b[0;34m\u001b[0m\u001b[0m\n",
      "\u001b[0;32m/Users/abursuc/anaconda3/lib/python3.6/site-packages/torchvision-0.2.1-py3.6.egg/torchvision/transforms/transforms.py\u001b[0m in \u001b[0;36m__call__\u001b[0;34m(self, pic)\u001b[0m\n\u001b[1;32m     74\u001b[0m             \u001b[0mTensor\u001b[0m\u001b[0;34m:\u001b[0m \u001b[0mConverted\u001b[0m \u001b[0mimage\u001b[0m\u001b[0;34m.\u001b[0m\u001b[0;34m\u001b[0m\u001b[0m\n\u001b[1;32m     75\u001b[0m         \"\"\"\n\u001b[0;32m---> 76\u001b[0;31m         \u001b[0;32mreturn\u001b[0m \u001b[0mF\u001b[0m\u001b[0;34m.\u001b[0m\u001b[0mto_tensor\u001b[0m\u001b[0;34m(\u001b[0m\u001b[0mpic\u001b[0m\u001b[0;34m)\u001b[0m\u001b[0;34m\u001b[0m\u001b[0m\n\u001b[0m\u001b[1;32m     77\u001b[0m \u001b[0;34m\u001b[0m\u001b[0m\n\u001b[1;32m     78\u001b[0m     \u001b[0;32mdef\u001b[0m \u001b[0m__repr__\u001b[0m\u001b[0;34m(\u001b[0m\u001b[0mself\u001b[0m\u001b[0;34m)\u001b[0m\u001b[0;34m:\u001b[0m\u001b[0;34m\u001b[0m\u001b[0m\n",
      "\u001b[0;32m/Users/abursuc/anaconda3/lib/python3.6/site-packages/torchvision-0.2.1-py3.6.egg/torchvision/transforms/functional.py\u001b[0m in \u001b[0;36mto_tensor\u001b[0;34m(pic)\u001b[0m\n\u001b[1;32m     76\u001b[0m     \u001b[0;32melse\u001b[0m\u001b[0;34m:\u001b[0m\u001b[0;34m\u001b[0m\u001b[0m\n\u001b[1;32m     77\u001b[0m         \u001b[0mnchannel\u001b[0m \u001b[0;34m=\u001b[0m \u001b[0mlen\u001b[0m\u001b[0;34m(\u001b[0m\u001b[0mpic\u001b[0m\u001b[0;34m.\u001b[0m\u001b[0mmode\u001b[0m\u001b[0;34m)\u001b[0m\u001b[0;34m\u001b[0m\u001b[0m\n\u001b[0;32m---> 78\u001b[0;31m     \u001b[0mimg\u001b[0m \u001b[0;34m=\u001b[0m \u001b[0mimg\u001b[0m\u001b[0;34m.\u001b[0m\u001b[0mview\u001b[0m\u001b[0;34m(\u001b[0m\u001b[0mpic\u001b[0m\u001b[0;34m.\u001b[0m\u001b[0msize\u001b[0m\u001b[0;34m[\u001b[0m\u001b[0;36m1\u001b[0m\u001b[0;34m]\u001b[0m\u001b[0;34m,\u001b[0m \u001b[0mpic\u001b[0m\u001b[0;34m.\u001b[0m\u001b[0msize\u001b[0m\u001b[0;34m[\u001b[0m\u001b[0;36m0\u001b[0m\u001b[0;34m]\u001b[0m\u001b[0;34m,\u001b[0m \u001b[0mnchannel\u001b[0m\u001b[0;34m)\u001b[0m\u001b[0;34m\u001b[0m\u001b[0m\n\u001b[0m\u001b[1;32m     79\u001b[0m     \u001b[0;31m# put it from HWC to CHW format\u001b[0m\u001b[0;34m\u001b[0m\u001b[0;34m\u001b[0m\u001b[0m\n\u001b[1;32m     80\u001b[0m     \u001b[0;31m# yikes, this transpose takes 80% of the loading time/CPU\u001b[0m\u001b[0;34m\u001b[0m\u001b[0;34m\u001b[0m\u001b[0m\n",
      "\u001b[0;31mKeyboardInterrupt\u001b[0m: "
     ]
    }
   ],
   "source": [
    "num_epochs = 30\n",
    "\n",
    "for epoch in range(1,  num_epochs + 1):\n",
    "    train(epoch)"
   ]
  },
  {
   "cell_type": "code",
   "execution_count": 13,
   "metadata": {},
   "outputs": [
    {
     "data": {
      "image/png": "[encoded data removed]",
      "text/plain": [
       "<matplotlib.figure.Figure at 0x10c861940>"
      ]
     },
     "metadata": {},
     "output_type": "display_data"
    }
   ],
   "source": [
    "plot_reconstructions(model, save=True, name='simple_bce', simple=True)"
   ]
  },
  {
   "cell_type": "markdown",
   "metadata": {},
   "source": [
    "## Stacked Auto-Encoder"
   ]
  },
  {
   "cell_type": "code",
   "execution_count": 14,
   "metadata": {
    "collapsed": true
   },
   "outputs": [],
   "source": [
    "class DeepAutoEncoder(nn.Module):\n",
    "    def __init__(self, input_dim, encoding_dim):\n",
    "        super(DeepAutoEncoder, self).__init__()\n",
    "        self.encoder = nn.Sequential(\n",
    "            nn.Linear(input_dim, 128),\n",
    "            nn.ReLU(True),\n",
    "            nn.Linear(128, 64),\n",
    "            nn.ReLU(True), \n",
    "            nn.Linear(64, encoding_dim), \n",
    "            nn.ReLU(True),\n",
    "        )\n",
    "        self.decoder = nn.Sequential(\n",
    "            nn.Linear(encoding_dim, 64),\n",
    "            nn.ReLU(True),\n",
    "            nn.Linear(64, 128),\n",
    "            nn.ReLU(True), \n",
    "            nn.Linear(128, input_dim),\n",
    "            # nn.Tanh()\n",
    "        )\n",
    "    def forward(self, x):\n",
    "        x = self.encoder(x)\n",
    "        x = self.decoder(x)\n",
    "        return x"
   ]
  },
  {
   "cell_type": "code",
   "execution_count": 15,
   "metadata": {
    "collapsed": true
   },
   "outputs": [],
   "source": [
    "input_dim = 784\n",
    "encoding_dim = 32\n",
    "\n",
    "model = DeepAutoEncoder(input_dim, encoding_dim)\n",
    "optimizer = optim.Adam(model.parameters())"
   ]
  },
  {
   "cell_type": "code",
   "execution_count": 16,
   "metadata": {
    "collapsed": true
   },
   "outputs": [],
   "source": [
    "def train(epoch):\n",
    "    for batch_idx, (data, _) in enumerate(train_loader):\n",
    "        data = Variable(data.view([-1, 784]))\n",
    "        optimizer.zero_grad()\n",
    "        output = model(data)\n",
    "        # loss = F.mse_loss(output, data)\n",
    "        loss = F.binary_cross_entropy_with_logits(output, data)\n",
    "        loss.backward()\n",
    "        optimizer.step()\n",
    "        if batch_idx % 50 == 0:\n",
    "            print('Train Epoch: {} [{}/{} ({:.0f}%)]\\tLoss: {:.6f}'.format(\n",
    "                epoch, batch_idx * len(data), len(train_loader.dataset),\n",
    "                100. * batch_idx / len(train_loader), loss.data[0]))"
   ]
  },
  {
   "cell_type": "code",
   "execution_count": 17,
   "metadata": {
    "scrolled": true
   },
   "outputs": [
    {
     "name": "stdout",
     "output_type": "stream",
     "text": [
      "Train Epoch: 1 [0/60000 (0%)]\tLoss: 0.692739\n",
      "Train Epoch: 1 [6400/60000 (11%)]\tLoss: 0.274938\n",
      "Train Epoch: 1 [12800/60000 (21%)]\tLoss: 0.265673\n",
      "Train Epoch: 1 [19200/60000 (32%)]\tLoss: 0.258315\n",
      "Train Epoch: 1 [25600/60000 (43%)]\tLoss: 0.249224\n",
      "Train Epoch: 1 [32000/60000 (53%)]\tLoss: 0.234311\n",
      "Train Epoch: 1 [38400/60000 (64%)]\tLoss: 0.232333\n",
      "Train Epoch: 1 [44800/60000 (75%)]\tLoss: 0.215346\n",
      "Train Epoch: 1 [51200/60000 (85%)]\tLoss: 0.193257\n",
      "Train Epoch: 1 [57600/60000 (96%)]\tLoss: 0.180909\n",
      "Train Epoch: 2 [0/60000 (0%)]\tLoss: 0.193419\n",
      "Train Epoch: 2 [6400/60000 (11%)]\tLoss: 0.174861\n",
      "Train Epoch: 2 [12800/60000 (21%)]\tLoss: 0.163236\n",
      "Train Epoch: 2 [19200/60000 (32%)]\tLoss: 0.164061\n",
      "Train Epoch: 2 [25600/60000 (43%)]\tLoss: 0.169866\n",
      "Train Epoch: 2 [32000/60000 (53%)]\tLoss: 0.154535\n",
      "Train Epoch: 2 [38400/60000 (64%)]\tLoss: 0.157411\n",
      "Train Epoch: 2 [44800/60000 (75%)]\tLoss: 0.163265\n",
      "Train Epoch: 2 [51200/60000 (85%)]\tLoss: 0.141477\n",
      "Train Epoch: 2 [57600/60000 (96%)]\tLoss: 0.156299\n",
      "Train Epoch: 3 [0/60000 (0%)]\tLoss: 0.145332\n",
      "Train Epoch: 3 [6400/60000 (11%)]\tLoss: 0.153384\n",
      "Train Epoch: 3 [12800/60000 (21%)]\tLoss: 0.150819\n",
      "Train Epoch: 3 [19200/60000 (32%)]\tLoss: 0.150188\n",
      "Train Epoch: 3 [25600/60000 (43%)]\tLoss: 0.146400\n",
      "Train Epoch: 3 [32000/60000 (53%)]\tLoss: 0.142180\n",
      "Train Epoch: 3 [38400/60000 (64%)]\tLoss: 0.143972\n",
      "Train Epoch: 3 [44800/60000 (75%)]\tLoss: 0.143647\n",
      "Train Epoch: 3 [51200/60000 (85%)]\tLoss: 0.144299\n",
      "Train Epoch: 3 [57600/60000 (96%)]\tLoss: 0.139636\n",
      "Train Epoch: 4 [0/60000 (0%)]\tLoss: 0.135704\n",
      "Train Epoch: 4 [6400/60000 (11%)]\tLoss: 0.130968\n",
      "Train Epoch: 4 [12800/60000 (21%)]\tLoss: 0.133065\n",
      "Train Epoch: 4 [19200/60000 (32%)]\tLoss: 0.138530\n",
      "Train Epoch: 4 [25600/60000 (43%)]\tLoss: 0.131900\n",
      "Train Epoch: 4 [32000/60000 (53%)]\tLoss: 0.131431\n",
      "Train Epoch: 4 [38400/60000 (64%)]\tLoss: 0.134415\n",
      "Train Epoch: 4 [44800/60000 (75%)]\tLoss: 0.131279\n",
      "Train Epoch: 4 [51200/60000 (85%)]\tLoss: 0.122412\n",
      "Train Epoch: 4 [57600/60000 (96%)]\tLoss: 0.128724\n",
      "Train Epoch: 5 [0/60000 (0%)]\tLoss: 0.130486\n",
      "Train Epoch: 5 [6400/60000 (11%)]\tLoss: 0.120775\n",
      "Train Epoch: 5 [12800/60000 (21%)]\tLoss: 0.132133\n",
      "Train Epoch: 5 [19200/60000 (32%)]\tLoss: 0.115770\n",
      "Train Epoch: 5 [25600/60000 (43%)]\tLoss: 0.122897\n",
      "Train Epoch: 5 [32000/60000 (53%)]\tLoss: 0.121556\n",
      "Train Epoch: 5 [38400/60000 (64%)]\tLoss: 0.125224\n",
      "Train Epoch: 5 [44800/60000 (75%)]\tLoss: 0.123935\n",
      "Train Epoch: 5 [51200/60000 (85%)]\tLoss: 0.116774\n",
      "Train Epoch: 5 [57600/60000 (96%)]\tLoss: 0.119653\n",
      "Train Epoch: 6 [0/60000 (0%)]\tLoss: 0.125228\n",
      "Train Epoch: 6 [6400/60000 (11%)]\tLoss: 0.120074\n",
      "Train Epoch: 6 [12800/60000 (21%)]\tLoss: 0.117233\n",
      "Train Epoch: 6 [19200/60000 (32%)]\tLoss: 0.118071\n",
      "Train Epoch: 6 [25600/60000 (43%)]\tLoss: 0.121998\n",
      "Train Epoch: 6 [32000/60000 (53%)]\tLoss: 0.116722\n",
      "Train Epoch: 6 [38400/60000 (64%)]\tLoss: 0.122577\n",
      "Train Epoch: 6 [44800/60000 (75%)]\tLoss: 0.118654\n",
      "Train Epoch: 6 [51200/60000 (85%)]\tLoss: 0.117399\n",
      "Train Epoch: 6 [57600/60000 (96%)]\tLoss: 0.116764\n",
      "Train Epoch: 7 [0/60000 (0%)]\tLoss: 0.115353\n",
      "Train Epoch: 7 [6400/60000 (11%)]\tLoss: 0.120441\n",
      "Train Epoch: 7 [12800/60000 (21%)]\tLoss: 0.123717\n",
      "Train Epoch: 7 [19200/60000 (32%)]\tLoss: 0.116303\n",
      "Train Epoch: 7 [25600/60000 (43%)]\tLoss: 0.113277\n",
      "Train Epoch: 7 [32000/60000 (53%)]\tLoss: 0.118023\n",
      "Train Epoch: 7 [38400/60000 (64%)]\tLoss: 0.114996\n",
      "Train Epoch: 7 [44800/60000 (75%)]\tLoss: 0.117784\n",
      "Train Epoch: 7 [51200/60000 (85%)]\tLoss: 0.118563\n",
      "Train Epoch: 7 [57600/60000 (96%)]\tLoss: 0.111648\n",
      "Train Epoch: 8 [0/60000 (0%)]\tLoss: 0.123445\n",
      "Train Epoch: 8 [6400/60000 (11%)]\tLoss: 0.121072\n",
      "Train Epoch: 8 [12800/60000 (21%)]\tLoss: 0.114628\n",
      "Train Epoch: 8 [19200/60000 (32%)]\tLoss: 0.114560\n",
      "Train Epoch: 8 [25600/60000 (43%)]\tLoss: 0.113609\n",
      "Train Epoch: 8 [32000/60000 (53%)]\tLoss: 0.108917\n",
      "Train Epoch: 8 [38400/60000 (64%)]\tLoss: 0.115980\n",
      "Train Epoch: 8 [44800/60000 (75%)]\tLoss: 0.109644\n",
      "Train Epoch: 8 [51200/60000 (85%)]\tLoss: 0.112284\n",
      "Train Epoch: 8 [57600/60000 (96%)]\tLoss: 0.117771\n",
      "Train Epoch: 9 [0/60000 (0%)]\tLoss: 0.115329\n",
      "Train Epoch: 9 [6400/60000 (11%)]\tLoss: 0.110733\n",
      "Train Epoch: 9 [12800/60000 (21%)]\tLoss: 0.111047\n",
      "Train Epoch: 9 [19200/60000 (32%)]\tLoss: 0.111611\n",
      "Train Epoch: 9 [25600/60000 (43%)]\tLoss: 0.107182\n",
      "Train Epoch: 9 [32000/60000 (53%)]\tLoss: 0.112542\n",
      "Train Epoch: 9 [38400/60000 (64%)]\tLoss: 0.107724\n",
      "Train Epoch: 9 [44800/60000 (75%)]\tLoss: 0.105775\n",
      "Train Epoch: 9 [51200/60000 (85%)]\tLoss: 0.113298\n",
      "Train Epoch: 9 [57600/60000 (96%)]\tLoss: 0.110449\n",
      "Train Epoch: 10 [0/60000 (0%)]\tLoss: 0.108873\n",
      "Train Epoch: 10 [6400/60000 (11%)]\tLoss: 0.103135\n",
      "Train Epoch: 10 [12800/60000 (21%)]\tLoss: 0.107521\n",
      "Train Epoch: 10 [19200/60000 (32%)]\tLoss: 0.109647\n",
      "Train Epoch: 10 [25600/60000 (43%)]\tLoss: 0.103431\n",
      "Train Epoch: 10 [32000/60000 (53%)]\tLoss: 0.102655\n",
      "Train Epoch: 10 [38400/60000 (64%)]\tLoss: 0.102220\n",
      "Train Epoch: 10 [44800/60000 (75%)]\tLoss: 0.107940\n",
      "Train Epoch: 10 [51200/60000 (85%)]\tLoss: 0.104849\n",
      "Train Epoch: 10 [57600/60000 (96%)]\tLoss: 0.106078\n",
      "Train Epoch: 11 [0/60000 (0%)]\tLoss: 0.110994\n",
      "Train Epoch: 11 [6400/60000 (11%)]\tLoss: 0.105763\n",
      "Train Epoch: 11 [12800/60000 (21%)]\tLoss: 0.115412\n",
      "Train Epoch: 11 [19200/60000 (32%)]\tLoss: 0.110856\n",
      "Train Epoch: 11 [25600/60000 (43%)]\tLoss: 0.109457\n",
      "Train Epoch: 11 [32000/60000 (53%)]\tLoss: 0.109238\n",
      "Train Epoch: 11 [38400/60000 (64%)]\tLoss: 0.102568\n",
      "Train Epoch: 11 [44800/60000 (75%)]\tLoss: 0.101663\n",
      "Train Epoch: 11 [51200/60000 (85%)]\tLoss: 0.105496\n",
      "Train Epoch: 11 [57600/60000 (96%)]\tLoss: 0.108705\n",
      "Train Epoch: 12 [0/60000 (0%)]\tLoss: 0.110010\n",
      "Train Epoch: 12 [6400/60000 (11%)]\tLoss: 0.109097\n",
      "Train Epoch: 12 [12800/60000 (21%)]\tLoss: 0.112948\n",
      "Train Epoch: 12 [19200/60000 (32%)]\tLoss: 0.104650\n",
      "Train Epoch: 12 [25600/60000 (43%)]\tLoss: 0.100975\n",
      "Train Epoch: 12 [32000/60000 (53%)]\tLoss: 0.103715\n",
      "Train Epoch: 12 [38400/60000 (64%)]\tLoss: 0.102896\n",
      "Train Epoch: 12 [44800/60000 (75%)]\tLoss: 0.106103\n",
      "Train Epoch: 12 [51200/60000 (85%)]\tLoss: 0.104421\n",
      "Train Epoch: 12 [57600/60000 (96%)]\tLoss: 0.104289\n",
      "Train Epoch: 13 [0/60000 (0%)]\tLoss: 0.107346\n",
      "Train Epoch: 13 [6400/60000 (11%)]\tLoss: 0.102983\n",
      "Train Epoch: 13 [12800/60000 (21%)]\tLoss: 0.100266\n",
      "Train Epoch: 13 [19200/60000 (32%)]\tLoss: 0.103260\n",
      "Train Epoch: 13 [25600/60000 (43%)]\tLoss: 0.101440\n",
      "Train Epoch: 13 [32000/60000 (53%)]\tLoss: 0.103045\n",
      "Train Epoch: 13 [38400/60000 (64%)]\tLoss: 0.100835\n",
      "Train Epoch: 13 [44800/60000 (75%)]\tLoss: 0.100719\n",
      "Train Epoch: 13 [51200/60000 (85%)]\tLoss: 0.100058\n",
      "Train Epoch: 13 [57600/60000 (96%)]\tLoss: 0.096482\n",
      "Train Epoch: 14 [0/60000 (0%)]\tLoss: 0.100656\n",
      "Train Epoch: 14 [6400/60000 (11%)]\tLoss: 0.103701\n",
      "Train Epoch: 14 [12800/60000 (21%)]\tLoss: 0.104122\n",
      "Train Epoch: 14 [19200/60000 (32%)]\tLoss: 0.101699\n",
      "Train Epoch: 14 [25600/60000 (43%)]\tLoss: 0.101236\n",
      "Train Epoch: 14 [32000/60000 (53%)]\tLoss: 0.100930\n",
      "Train Epoch: 14 [38400/60000 (64%)]\tLoss: 0.102289\n",
      "Train Epoch: 14 [44800/60000 (75%)]\tLoss: 0.099994\n",
      "Train Epoch: 14 [51200/60000 (85%)]\tLoss: 0.102264\n",
      "Train Epoch: 14 [57600/60000 (96%)]\tLoss: 0.100434\n",
      "Train Epoch: 15 [0/60000 (0%)]\tLoss: 0.099525\n",
      "Train Epoch: 15 [6400/60000 (11%)]\tLoss: 0.101687\n",
      "Train Epoch: 15 [12800/60000 (21%)]\tLoss: 0.099355\n",
      "Train Epoch: 15 [19200/60000 (32%)]\tLoss: 0.101396\n",
      "Train Epoch: 15 [25600/60000 (43%)]\tLoss: 0.099713\n",
      "Train Epoch: 15 [32000/60000 (53%)]\tLoss: 0.104878\n",
      "Train Epoch: 15 [38400/60000 (64%)]\tLoss: 0.098198\n",
      "Train Epoch: 15 [44800/60000 (75%)]\tLoss: 0.099842\n",
      "Train Epoch: 15 [51200/60000 (85%)]\tLoss: 0.099872\n",
      "Train Epoch: 15 [57600/60000 (96%)]\tLoss: 0.095581\n",
      "Train Epoch: 16 [0/60000 (0%)]\tLoss: 0.098216\n",
      "Train Epoch: 16 [6400/60000 (11%)]\tLoss: 0.097033\n",
      "Train Epoch: 16 [12800/60000 (21%)]\tLoss: 0.101036\n",
      "Train Epoch: 16 [19200/60000 (32%)]\tLoss: 0.101923\n",
      "Train Epoch: 16 [25600/60000 (43%)]\tLoss: 0.102235\n",
      "Train Epoch: 16 [32000/60000 (53%)]\tLoss: 0.105491\n",
      "Train Epoch: 16 [38400/60000 (64%)]\tLoss: 0.097226\n",
      "Train Epoch: 16 [44800/60000 (75%)]\tLoss: 0.103240\n",
      "Train Epoch: 16 [51200/60000 (85%)]\tLoss: 0.098090\n",
      "Train Epoch: 16 [57600/60000 (96%)]\tLoss: 0.098205\n",
      "Train Epoch: 17 [0/60000 (0%)]\tLoss: 0.098655\n",
      "Train Epoch: 17 [6400/60000 (11%)]\tLoss: 0.101007\n",
      "Train Epoch: 17 [12800/60000 (21%)]\tLoss: 0.097453\n",
      "Train Epoch: 17 [19200/60000 (32%)]\tLoss: 0.100915\n",
      "Train Epoch: 17 [25600/60000 (43%)]\tLoss: 0.097710\n"
     ]
    },
    {
     "name": "stdout",
     "output_type": "stream",
     "text": [
      "Train Epoch: 17 [32000/60000 (53%)]\tLoss: 0.093700\n",
      "Train Epoch: 17 [38400/60000 (64%)]\tLoss: 0.097375\n",
      "Train Epoch: 17 [44800/60000 (75%)]\tLoss: 0.094497\n",
      "Train Epoch: 17 [51200/60000 (85%)]\tLoss: 0.093871\n",
      "Train Epoch: 17 [57600/60000 (96%)]\tLoss: 0.099590\n",
      "Train Epoch: 18 [0/60000 (0%)]\tLoss: 0.098090\n",
      "Train Epoch: 18 [6400/60000 (11%)]\tLoss: 0.094356\n",
      "Train Epoch: 18 [12800/60000 (21%)]\tLoss: 0.098974\n",
      "Train Epoch: 18 [19200/60000 (32%)]\tLoss: 0.100175\n",
      "Train Epoch: 18 [25600/60000 (43%)]\tLoss: 0.101503\n",
      "Train Epoch: 18 [32000/60000 (53%)]\tLoss: 0.096838\n",
      "Train Epoch: 18 [38400/60000 (64%)]\tLoss: 0.097279\n",
      "Train Epoch: 18 [44800/60000 (75%)]\tLoss: 0.096479\n",
      "Train Epoch: 18 [51200/60000 (85%)]\tLoss: 0.099932\n",
      "Train Epoch: 18 [57600/60000 (96%)]\tLoss: 0.095979\n",
      "Train Epoch: 19 [0/60000 (0%)]\tLoss: 0.095215\n",
      "Train Epoch: 19 [6400/60000 (11%)]\tLoss: 0.098604\n",
      "Train Epoch: 19 [12800/60000 (21%)]\tLoss: 0.096479\n",
      "Train Epoch: 19 [19200/60000 (32%)]\tLoss: 0.096312\n",
      "Train Epoch: 19 [25600/60000 (43%)]\tLoss: 0.098082\n",
      "Train Epoch: 19 [32000/60000 (53%)]\tLoss: 0.100396\n",
      "Train Epoch: 19 [38400/60000 (64%)]\tLoss: 0.096285\n",
      "Train Epoch: 19 [44800/60000 (75%)]\tLoss: 0.092766\n",
      "Train Epoch: 19 [51200/60000 (85%)]\tLoss: 0.099886\n",
      "Train Epoch: 19 [57600/60000 (96%)]\tLoss: 0.090522\n",
      "Train Epoch: 20 [0/60000 (0%)]\tLoss: 0.096214\n",
      "Train Epoch: 20 [6400/60000 (11%)]\tLoss: 0.097921\n",
      "Train Epoch: 20 [12800/60000 (21%)]\tLoss: 0.097146\n",
      "Train Epoch: 20 [19200/60000 (32%)]\tLoss: 0.095421\n",
      "Train Epoch: 20 [25600/60000 (43%)]\tLoss: 0.096090\n",
      "Train Epoch: 20 [32000/60000 (53%)]\tLoss: 0.095258\n",
      "Train Epoch: 20 [38400/60000 (64%)]\tLoss: 0.097407\n",
      "Train Epoch: 20 [44800/60000 (75%)]\tLoss: 0.091963\n",
      "Train Epoch: 20 [51200/60000 (85%)]\tLoss: 0.093077\n",
      "Train Epoch: 20 [57600/60000 (96%)]\tLoss: 0.091340\n",
      "Train Epoch: 21 [0/60000 (0%)]\tLoss: 0.092712\n",
      "Train Epoch: 21 [6400/60000 (11%)]\tLoss: 0.091400\n",
      "Train Epoch: 21 [12800/60000 (21%)]\tLoss: 0.095405\n",
      "Train Epoch: 21 [19200/60000 (32%)]\tLoss: 0.094805\n",
      "Train Epoch: 21 [25600/60000 (43%)]\tLoss: 0.093699\n",
      "Train Epoch: 21 [32000/60000 (53%)]\tLoss: 0.094955\n",
      "Train Epoch: 21 [38400/60000 (64%)]\tLoss: 0.095476\n",
      "Train Epoch: 21 [44800/60000 (75%)]\tLoss: 0.096635\n",
      "Train Epoch: 21 [51200/60000 (85%)]\tLoss: 0.099473\n",
      "Train Epoch: 21 [57600/60000 (96%)]\tLoss: 0.094306\n",
      "Train Epoch: 22 [0/60000 (0%)]\tLoss: 0.090558\n",
      "Train Epoch: 22 [6400/60000 (11%)]\tLoss: 0.093684\n",
      "Train Epoch: 22 [12800/60000 (21%)]\tLoss: 0.098305\n",
      "Train Epoch: 22 [19200/60000 (32%)]\tLoss: 0.098332\n",
      "Train Epoch: 22 [25600/60000 (43%)]\tLoss: 0.091165\n",
      "Train Epoch: 22 [32000/60000 (53%)]\tLoss: 0.099809\n",
      "Train Epoch: 22 [38400/60000 (64%)]\tLoss: 0.092904\n",
      "Train Epoch: 22 [44800/60000 (75%)]\tLoss: 0.093676\n",
      "Train Epoch: 22 [51200/60000 (85%)]\tLoss: 0.094826\n",
      "Train Epoch: 22 [57600/60000 (96%)]\tLoss: 0.092200\n",
      "Train Epoch: 23 [0/60000 (0%)]\tLoss: 0.093409\n",
      "Train Epoch: 23 [6400/60000 (11%)]\tLoss: 0.094560\n",
      "Train Epoch: 23 [12800/60000 (21%)]\tLoss: 0.091036\n",
      "Train Epoch: 23 [19200/60000 (32%)]\tLoss: 0.093700\n",
      "Train Epoch: 23 [25600/60000 (43%)]\tLoss: 0.097288\n",
      "Train Epoch: 23 [32000/60000 (53%)]\tLoss: 0.092003\n",
      "Train Epoch: 23 [38400/60000 (64%)]\tLoss: 0.092867\n",
      "Train Epoch: 23 [44800/60000 (75%)]\tLoss: 0.096256\n",
      "Train Epoch: 23 [51200/60000 (85%)]\tLoss: 0.089141\n",
      "Train Epoch: 23 [57600/60000 (96%)]\tLoss: 0.095180\n",
      "Train Epoch: 24 [0/60000 (0%)]\tLoss: 0.095591\n",
      "Train Epoch: 24 [6400/60000 (11%)]\tLoss: 0.089523\n",
      "Train Epoch: 24 [12800/60000 (21%)]\tLoss: 0.094818\n",
      "Train Epoch: 24 [19200/60000 (32%)]\tLoss: 0.096433\n",
      "Train Epoch: 24 [25600/60000 (43%)]\tLoss: 0.092461\n",
      "Train Epoch: 24 [32000/60000 (53%)]\tLoss: 0.093387\n",
      "Train Epoch: 24 [38400/60000 (64%)]\tLoss: 0.091121\n",
      "Train Epoch: 24 [44800/60000 (75%)]\tLoss: 0.093580\n",
      "Train Epoch: 24 [51200/60000 (85%)]\tLoss: 0.091624\n",
      "Train Epoch: 24 [57600/60000 (96%)]\tLoss: 0.093400\n",
      "Train Epoch: 25 [0/60000 (0%)]\tLoss: 0.099046\n",
      "Train Epoch: 25 [6400/60000 (11%)]\tLoss: 0.088499\n",
      "Train Epoch: 25 [12800/60000 (21%)]\tLoss: 0.092352\n",
      "Train Epoch: 25 [19200/60000 (32%)]\tLoss: 0.093135\n",
      "Train Epoch: 25 [25600/60000 (43%)]\tLoss: 0.089259\n",
      "Train Epoch: 25 [32000/60000 (53%)]\tLoss: 0.094050\n",
      "Train Epoch: 25 [38400/60000 (64%)]\tLoss: 0.097058\n",
      "Train Epoch: 25 [44800/60000 (75%)]\tLoss: 0.093981\n",
      "Train Epoch: 25 [51200/60000 (85%)]\tLoss: 0.087383\n",
      "Train Epoch: 25 [57600/60000 (96%)]\tLoss: 0.096139\n",
      "Train Epoch: 26 [0/60000 (0%)]\tLoss: 0.095188\n",
      "Train Epoch: 26 [6400/60000 (11%)]\tLoss: 0.089029\n",
      "Train Epoch: 26 [12800/60000 (21%)]\tLoss: 0.092685\n",
      "Train Epoch: 26 [19200/60000 (32%)]\tLoss: 0.093927\n",
      "Train Epoch: 26 [25600/60000 (43%)]\tLoss: 0.096067\n",
      "Train Epoch: 26 [32000/60000 (53%)]\tLoss: 0.096934\n",
      "Train Epoch: 26 [38400/60000 (64%)]\tLoss: 0.100759\n",
      "Train Epoch: 26 [44800/60000 (75%)]\tLoss: 0.093707\n",
      "Train Epoch: 26 [51200/60000 (85%)]\tLoss: 0.090278\n",
      "Train Epoch: 26 [57600/60000 (96%)]\tLoss: 0.092963\n",
      "Train Epoch: 27 [0/60000 (0%)]\tLoss: 0.092862\n",
      "Train Epoch: 27 [6400/60000 (11%)]\tLoss: 0.094750\n",
      "Train Epoch: 27 [12800/60000 (21%)]\tLoss: 0.085774\n",
      "Train Epoch: 27 [19200/60000 (32%)]\tLoss: 0.088621\n",
      "Train Epoch: 27 [25600/60000 (43%)]\tLoss: 0.093867\n",
      "Train Epoch: 27 [32000/60000 (53%)]\tLoss: 0.090793\n",
      "Train Epoch: 27 [38400/60000 (64%)]\tLoss: 0.094372\n",
      "Train Epoch: 27 [44800/60000 (75%)]\tLoss: 0.092320\n",
      "Train Epoch: 27 [51200/60000 (85%)]\tLoss: 0.093546\n",
      "Train Epoch: 27 [57600/60000 (96%)]\tLoss: 0.089150\n",
      "Train Epoch: 28 [0/60000 (0%)]\tLoss: 0.090350\n",
      "Train Epoch: 28 [6400/60000 (11%)]\tLoss: 0.085793\n",
      "Train Epoch: 28 [12800/60000 (21%)]\tLoss: 0.088381\n",
      "Train Epoch: 28 [19200/60000 (32%)]\tLoss: 0.084743\n",
      "Train Epoch: 28 [25600/60000 (43%)]\tLoss: 0.092572\n",
      "Train Epoch: 28 [32000/60000 (53%)]\tLoss: 0.094405\n",
      "Train Epoch: 28 [38400/60000 (64%)]\tLoss: 0.093989\n",
      "Train Epoch: 28 [44800/60000 (75%)]\tLoss: 0.094494\n",
      "Train Epoch: 28 [51200/60000 (85%)]\tLoss: 0.090246\n",
      "Train Epoch: 28 [57600/60000 (96%)]\tLoss: 0.094941\n",
      "Train Epoch: 29 [0/60000 (0%)]\tLoss: 0.088737\n",
      "Train Epoch: 29 [6400/60000 (11%)]\tLoss: 0.091728\n",
      "Train Epoch: 29 [12800/60000 (21%)]\tLoss: 0.092425\n",
      "Train Epoch: 29 [19200/60000 (32%)]\tLoss: 0.096412\n",
      "Train Epoch: 29 [25600/60000 (43%)]\tLoss: 0.089154\n",
      "Train Epoch: 29 [32000/60000 (53%)]\tLoss: 0.092766\n",
      "Train Epoch: 29 [38400/60000 (64%)]\tLoss: 0.093711\n",
      "Train Epoch: 29 [44800/60000 (75%)]\tLoss: 0.092167\n",
      "Train Epoch: 29 [51200/60000 (85%)]\tLoss: 0.097436\n",
      "Train Epoch: 29 [57600/60000 (96%)]\tLoss: 0.092272\n",
      "Train Epoch: 30 [0/60000 (0%)]\tLoss: 0.090793\n",
      "Train Epoch: 30 [6400/60000 (11%)]\tLoss: 0.085895\n",
      "Train Epoch: 30 [12800/60000 (21%)]\tLoss: 0.093278\n",
      "Train Epoch: 30 [19200/60000 (32%)]\tLoss: 0.090049\n",
      "Train Epoch: 30 [25600/60000 (43%)]\tLoss: 0.093009\n",
      "Train Epoch: 30 [32000/60000 (53%)]\tLoss: 0.088768\n",
      "Train Epoch: 30 [38400/60000 (64%)]\tLoss: 0.092517\n",
      "Train Epoch: 30 [44800/60000 (75%)]\tLoss: 0.093672\n",
      "Train Epoch: 30 [51200/60000 (85%)]\tLoss: 0.092170\n",
      "Train Epoch: 30 [57600/60000 (96%)]\tLoss: 0.088904\n"
     ]
    }
   ],
   "source": [
    "num_epochs = 30\n",
    "\n",
    "for epoch in range(1,  num_epochs + 1):\n",
    "    train(epoch)"
   ]
  },
  {
   "cell_type": "code",
   "execution_count": 18,
   "metadata": {},
   "outputs": [
    {
     "data": {
      "image/png": "[encoded data removed]",
      "text/plain": [
       "<matplotlib.figure.Figure at 0x105c55240>"
      ]
     },
     "metadata": {},
     "output_type": "display_data"
    }
   ],
   "source": [
    "plot_reconstructions(model, save=True, name='stacked_ae_bce', conv=False, simple=False)"
   ]
  },
  {
   "cell_type": "markdown",
   "metadata": {},
   "source": [
    "## Convolutional Auto-Encoder"
   ]
  },
  {
   "cell_type": "code",
   "execution_count": 41,
   "metadata": {
    "collapsed": true
   },
   "outputs": [],
   "source": [
    "class ConvolutionalAutoEncoder(nn.Module):\n",
    "    def __init__(self):\n",
    "        super(ConvolutionalAutoEncoder, self).__init__()\n",
    "        self.encoder = nn.Sequential(\n",
    "            nn.Conv2d(1, 8, 3, stride=2, padding=1),\n",
    "            nn.MaxPool2d(2, stride=2),\n",
    "            nn.ReLU(True),\n",
    "            nn.Conv2d(8, 16, 3, stride=2, padding=1),\n",
    "            nn.MaxPool2d(2, stride=1),\n",
    "            nn.ReLU(True),\n",
    "        )\n",
    "        self.decoder = nn.Sequential(\n",
    "            nn.ConvTranspose2d(16, 16, 2, stride=3, padding=0),\n",
    "            nn.ReLU(True),\n",
    "            nn.ConvTranspose2d(16, 8, 2, stride=2, padding=1),\n",
    "            nn.ReLU(True),\n",
    "            nn.ConvTranspose2d(8, 1, 2, stride=2, padding=0),\n",
    "            nn.Tanh(),\n",
    "        )\n",
    "    def forward(self, x):\n",
    "        x = self.encoder(x)\n",
    "        x = self.decoder(x)\n",
    "        return x"
   ]
  },
  {
   "cell_type": "code",
   "execution_count": 42,
   "metadata": {
    "collapsed": true
   },
   "outputs": [],
   "source": [
    "model = ConvolutionalAutoEncoder()\n",
    "optimizer = optim.Adam(model.parameters())"
   ]
  },
  {
   "cell_type": "code",
   "execution_count": 43,
   "metadata": {
    "collapsed": true
   },
   "outputs": [],
   "source": [
    "def train(epoch):\n",
    "    for batch_idx, (data, _) in enumerate(train_loader):\n",
    "        data = Variable(data)\n",
    "        optimizer.zero_grad()\n",
    "        output = model(data)\n",
    "        # loss = F.mse_loss(output, data)\n",
    "        loss = F.binary_cross_entropy_with_logits(output, data)\n",
    "        loss.backward()\n",
    "        optimizer.step()\n",
    "        if batch_idx % 50 == 0:\n",
    "            print('Train Epoch: {} [{}/{} ({:.0f}%)]\\tLoss: {:.6f}'.format(\n",
    "                epoch, batch_idx * len(data), len(train_loader.dataset),\n",
    "                100. * batch_idx / len(train_loader), loss.data[0]))"
   ]
  },
  {
   "cell_type": "code",
   "execution_count": 44,
   "metadata": {
    "scrolled": true
   },
   "outputs": [
    {
     "name": "stdout",
     "output_type": "stream",
     "text": [
      "Train Epoch: 1 [0/60000 (0%)]\tLoss: 0.710974\n",
      "Train Epoch: 1 [6400/60000 (11%)]\tLoss: 0.529393\n",
      "Train Epoch: 1 [12800/60000 (21%)]\tLoss: 0.428230\n",
      "Train Epoch: 1 [19200/60000 (32%)]\tLoss: 0.277283\n",
      "Train Epoch: 1 [25600/60000 (43%)]\tLoss: 0.255119\n",
      "Train Epoch: 1 [32000/60000 (53%)]\tLoss: 0.246950\n",
      "Train Epoch: 1 [38400/60000 (64%)]\tLoss: 0.250870\n",
      "Train Epoch: 1 [44800/60000 (75%)]\tLoss: 0.241132\n",
      "Train Epoch: 1 [51200/60000 (85%)]\tLoss: 0.232416\n",
      "Train Epoch: 1 [57600/60000 (96%)]\tLoss: 0.222461\n",
      "Train Epoch: 2 [0/60000 (0%)]\tLoss: 0.224473\n",
      "Train Epoch: 2 [6400/60000 (11%)]\tLoss: 0.211726\n",
      "Train Epoch: 2 [12800/60000 (21%)]\tLoss: 0.209633\n",
      "Train Epoch: 2 [19200/60000 (32%)]\tLoss: 0.211617\n",
      "Train Epoch: 2 [25600/60000 (43%)]\tLoss: 0.198752\n",
      "Train Epoch: 2 [32000/60000 (53%)]\tLoss: 0.196395\n"
     ]
    },
    {
     "ename": "KeyboardInterrupt",
     "evalue": "",
     "output_type": "error",
     "traceback": [
      "\u001b[0;31m---------------------------------------------------------------------------\u001b[0m",
      "\u001b[0;31mKeyboardInterrupt\u001b[0m                         Traceback (most recent call last)",
      "\u001b[0;32m<ipython-input-44-0d69b79335ef>\u001b[0m in \u001b[0;36m<module>\u001b[0;34m()\u001b[0m\n\u001b[1;32m      2\u001b[0m \u001b[0;34m\u001b[0m\u001b[0m\n\u001b[1;32m      3\u001b[0m \u001b[0;32mfor\u001b[0m \u001b[0mepoch\u001b[0m \u001b[0;32min\u001b[0m \u001b[0mrange\u001b[0m\u001b[0;34m(\u001b[0m\u001b[0;36m1\u001b[0m\u001b[0;34m,\u001b[0m  \u001b[0mnum_epochs\u001b[0m \u001b[0;34m+\u001b[0m \u001b[0;36m1\u001b[0m\u001b[0;34m)\u001b[0m\u001b[0;34m:\u001b[0m\u001b[0;34m\u001b[0m\u001b[0m\n\u001b[0;32m----> 4\u001b[0;31m     \u001b[0mtrain\u001b[0m\u001b[0;34m(\u001b[0m\u001b[0mepoch\u001b[0m\u001b[0;34m)\u001b[0m\u001b[0;34m\u001b[0m\u001b[0m\n\u001b[0m",
      "\u001b[0;32m<ipython-input-43-a74a8fac400c>\u001b[0m in \u001b[0;36mtrain\u001b[0;34m(epoch)\u001b[0m\n\u001b[1;32m      5\u001b[0m         \u001b[0moutput\u001b[0m \u001b[0;34m=\u001b[0m \u001b[0mmodel\u001b[0m\u001b[0;34m(\u001b[0m\u001b[0mdata\u001b[0m\u001b[0;34m)\u001b[0m\u001b[0;34m\u001b[0m\u001b[0m\n\u001b[1;32m      6\u001b[0m         \u001b[0;31m# loss = F.mse_loss(output, data)\u001b[0m\u001b[0;34m\u001b[0m\u001b[0;34m\u001b[0m\u001b[0m\n\u001b[0;32m----> 7\u001b[0;31m         \u001b[0mloss\u001b[0m \u001b[0;34m=\u001b[0m \u001b[0mF\u001b[0m\u001b[0;34m.\u001b[0m\u001b[0mbinary_cross_entropy_with_logits\u001b[0m\u001b[0;34m(\u001b[0m\u001b[0moutput\u001b[0m\u001b[0;34m,\u001b[0m \u001b[0mdata\u001b[0m\u001b[0;34m)\u001b[0m\u001b[0;34m\u001b[0m\u001b[0m\n\u001b[0m\u001b[1;32m      8\u001b[0m         \u001b[0mloss\u001b[0m\u001b[0;34m.\u001b[0m\u001b[0mbackward\u001b[0m\u001b[0;34m(\u001b[0m\u001b[0;34m)\u001b[0m\u001b[0;34m\u001b[0m\u001b[0m\n\u001b[1;32m      9\u001b[0m         \u001b[0moptimizer\u001b[0m\u001b[0;34m.\u001b[0m\u001b[0mstep\u001b[0m\u001b[0;34m(\u001b[0m\u001b[0;34m)\u001b[0m\u001b[0;34m\u001b[0m\u001b[0m\n",
      "\u001b[0;32m~/envs/deepL/lib/python3.6/site-packages/torch/nn/functional.py\u001b[0m in \u001b[0;36mbinary_cross_entropy_with_logits\u001b[0;34m(input, target, weight, size_average)\u001b[0m\n\u001b[1;32m   1073\u001b[0m \u001b[0;34m\u001b[0m\u001b[0m\n\u001b[1;32m   1074\u001b[0m     \u001b[0mmax_val\u001b[0m \u001b[0;34m=\u001b[0m \u001b[0;34m(\u001b[0m\u001b[0;34m-\u001b[0m\u001b[0minput\u001b[0m\u001b[0;34m)\u001b[0m\u001b[0;34m.\u001b[0m\u001b[0mclamp\u001b[0m\u001b[0;34m(\u001b[0m\u001b[0mmin\u001b[0m\u001b[0;34m=\u001b[0m\u001b[0;36m0\u001b[0m\u001b[0;34m)\u001b[0m\u001b[0;34m\u001b[0m\u001b[0m\n\u001b[0;32m-> 1075\u001b[0;31m     \u001b[0mloss\u001b[0m \u001b[0;34m=\u001b[0m \u001b[0minput\u001b[0m \u001b[0;34m-\u001b[0m \u001b[0minput\u001b[0m \u001b[0;34m*\u001b[0m \u001b[0mtarget\u001b[0m \u001b[0;34m+\u001b[0m \u001b[0mmax_val\u001b[0m \u001b[0;34m+\u001b[0m \u001b[0;34m(\u001b[0m\u001b[0;34m(\u001b[0m\u001b[0;34m-\u001b[0m\u001b[0mmax_val\u001b[0m\u001b[0;34m)\u001b[0m\u001b[0;34m.\u001b[0m\u001b[0mexp\u001b[0m\u001b[0;34m(\u001b[0m\u001b[0;34m)\u001b[0m \u001b[0;34m+\u001b[0m \u001b[0;34m(\u001b[0m\u001b[0;34m-\u001b[0m\u001b[0minput\u001b[0m \u001b[0;34m-\u001b[0m \u001b[0mmax_val\u001b[0m\u001b[0;34m)\u001b[0m\u001b[0;34m.\u001b[0m\u001b[0mexp\u001b[0m\u001b[0;34m(\u001b[0m\u001b[0;34m)\u001b[0m\u001b[0;34m)\u001b[0m\u001b[0;34m.\u001b[0m\u001b[0mlog\u001b[0m\u001b[0;34m(\u001b[0m\u001b[0;34m)\u001b[0m\u001b[0;34m\u001b[0m\u001b[0m\n\u001b[0m\u001b[1;32m   1076\u001b[0m \u001b[0;34m\u001b[0m\u001b[0m\n\u001b[1;32m   1077\u001b[0m     \u001b[0;32mif\u001b[0m \u001b[0mweight\u001b[0m \u001b[0;32mis\u001b[0m \u001b[0;32mnot\u001b[0m \u001b[0;32mNone\u001b[0m\u001b[0;34m:\u001b[0m\u001b[0;34m\u001b[0m\u001b[0m\n",
      "\u001b[0;31mKeyboardInterrupt\u001b[0m: "
     ]
    }
   ],
   "source": [
    "num_epochs = 30\n",
    "\n",
    "for epoch in range(1,  num_epochs + 1):\n",
    "    train(epoch)"
   ]
  },
  {
   "cell_type": "code",
   "execution_count": 40,
   "metadata": {},
   "outputs": [
    {
     "data": {
      "image/png": "[encoded data removed]",
      "text/plain": [
       "<matplotlib.figure.Figure at 0x114209d30>"
      ]
     },
     "metadata": {},
     "output_type": "display_data"
    }
   ],
   "source": [
    "plot_reconstructions(model, save=True, name='conv_ae_bce', conv=True, simple=False)"
   ]
  }
 ],
 "metadata": {
  "kernelspec": {
   "display_name": "Python 3",
   "language": "python",
   "name": "python3"
  },
  "language_info": {
   "codemirror_mode": {
    "name": "ipython",
    "version": 3
   },
   "file_extension": ".py",
   "mimetype": "text/x-python",
   "name": "python",
   "nbconvert_exporter": "python",
   "pygments_lexer": "ipython3",
   "version": "3.6.1"
  }
 },
 "nbformat": 4,
 "nbformat_minor": 2
}
